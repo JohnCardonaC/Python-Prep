{
 "cells": [
  {
   "attachments": {},
   "cell_type": "markdown",
   "metadata": {},
   "source": [
    "## Flujos de Control"
   ]
  },
  {
   "attachments": {},
   "cell_type": "markdown",
   "metadata": {},
   "source": [
    "1) Crear una variable que contenga un elemento del conjunto de números enteros y luego imprimir por pantalla si es mayor o menor a cero"
   ]
  },
  {
   "cell_type": "code",
   "execution_count": 3,
   "metadata": {},
   "outputs": [
    {
     "name": "stdout",
     "output_type": "stream",
     "text": [
      "5 es mayor a cero\n"
     ]
    }
   ],
   "source": [
    "num1 = 5\n",
    "if num1 > 0:\n",
    "  print(num1, \"es mayor a cero\")\n",
    "else:\n",
    "  print(num1, \"es menor a cero\")"
   ]
  },
  {
   "attachments": {},
   "cell_type": "markdown",
   "metadata": {},
   "source": [
    "2) Crear dos variables y un condicional que informe si son del mismo tipo de dato"
   ]
  },
  {
   "cell_type": "code",
   "execution_count": 6,
   "metadata": {},
   "outputs": [
    {
     "name": "stdout",
     "output_type": "stream",
     "text": [
      "No son el mismo tipo de dato\n"
     ]
    }
   ],
   "source": [
    "x2 = 3\n",
    "z2 = \"Hola\"\n",
    "if type(x2) == type(z2):\n",
    "  print(\"Son el mismo tipo de dato\")\n",
    "else:\n",
    "  print(\"No son el mismo tipo de dato\")"
   ]
  },
  {
   "attachments": {},
   "cell_type": "markdown",
   "metadata": {},
   "source": [
    "3) Para los valores enteros del 1 al 20, imprimir por pantalla si es par o impar"
   ]
  },
  {
   "cell_type": "code",
   "execution_count": 7,
   "metadata": {},
   "outputs": [
    {
     "name": "stdout",
     "output_type": "stream",
     "text": [
      "El numero 1 es impar\n",
      "El numero 2 es par\n",
      "El numero 3 es impar\n",
      "El numero 4 es par\n",
      "El numero 5 es impar\n",
      "El numero 6 es par\n",
      "El numero 7 es impar\n",
      "El numero 8 es par\n",
      "El numero 9 es impar\n",
      "El numero 10 es par\n",
      "El numero 11 es impar\n",
      "El numero 12 es par\n",
      "El numero 13 es impar\n",
      "El numero 14 es par\n",
      "El numero 15 es impar\n",
      "El numero 16 es par\n",
      "El numero 17 es impar\n",
      "El numero 18 es par\n",
      "El numero 19 es impar\n",
      "El numero 20 es par\n"
     ]
    }
   ],
   "source": [
    "for i in range(1,21):\n",
    "  if i%2 == 0:\n",
    "    print(\"El numero\", i, \"es par\")\n",
    "  else:\n",
    "    print(\"El numero\", i, \"es impar\")"
   ]
  },
  {
   "attachments": {},
   "cell_type": "markdown",
   "metadata": {},
   "source": [
    "4) En un ciclo for mostrar para los valores entre 0 y 5 el resultado de elevarlo a la potencia igual a 3"
   ]
  },
  {
   "cell_type": "code",
   "execution_count": 8,
   "metadata": {},
   "outputs": [
    {
     "name": "stdout",
     "output_type": "stream",
     "text": [
      "El numero 0 Elevado a la 3 es:  0\n",
      "El numero 1 Elevado a la 3 es:  1\n",
      "El numero 2 Elevado a la 3 es:  8\n",
      "El numero 3 Elevado a la 3 es:  27\n",
      "El numero 4 Elevado a la 3 es:  64\n",
      "El numero 5 Elevado a la 3 es:  125\n"
     ]
    }
   ],
   "source": [
    "for i in range (6):\n",
    "  num = i**3\n",
    "  print(\"El numero\", i, \"Elevado a la 3 es: \", num)"
   ]
  },
  {
   "attachments": {},
   "cell_type": "markdown",
   "metadata": {},
   "source": [
    "5) Crear una variable que contenga un número entero y realizar un ciclo for la misma cantidad de ciclos"
   ]
  },
  {
   "cell_type": "code",
   "execution_count": 11,
   "metadata": {},
   "outputs": [
    {
     "name": "stdout",
     "output_type": "stream",
     "text": [
      "Ciclo: 0\n",
      "Ciclo: 1\n",
      "Ciclo: 2\n",
      "Ciclo: 3\n",
      "Ciclo: 4\n",
      "Ciclo: 5\n",
      "Ciclo: 6\n",
      "Ciclo: 7\n",
      "Ciclo: 8\n",
      "Ciclo: 9\n"
     ]
    }
   ],
   "source": [
    "num5 = 10\n",
    "for i in range (num5):\n",
    "  print(\"Ciclo:\", i)"
   ]
  },
  {
   "attachments": {},
   "cell_type": "markdown",
   "metadata": {},
   "source": [
    "6) Utilizar un ciclo while para realizar el factorial de un número guardado en una variable, sólo si la variable contiene un número entero mayor a 0"
   ]
  },
  {
   "cell_type": "code",
   "execution_count": 24,
   "metadata": {},
   "outputs": [
    {
     "name": "stdout",
     "output_type": "stream",
     "text": [
      "120\n"
     ]
    }
   ],
   "source": [
    "num6 = 5\n",
    "if type(num6) == int:\n",
    "  if num6 > 0:\n",
    "    i = 1\n",
    "    fact6 = 1\n",
    "    while i <= num6:\n",
    "      fact6 *= i\n",
    "      i += 1\n",
    "    print(fact6)\n",
    "  else:\n",
    "    print(\"La variable no es mayor a cero\")\n",
    "else:\n",
    "  print(\"La variable no es un entero\")\n",
    "\n",
    "\n",
    "\n"
   ]
  },
  {
   "attachments": {},
   "cell_type": "markdown",
   "metadata": {},
   "source": [
    "7) Crear un ciclo for dentro de un ciclo while"
   ]
  },
  {
   "cell_type": "code",
   "execution_count": 59,
   "metadata": {},
   "outputs": [
    {
     "name": "stdout",
     "output_type": "stream",
     "text": [
      "Ciclo while: 1\n",
      "0\n",
      "1\n",
      "2\n",
      "Ciclo while: 2\n",
      "0\n",
      "1\n",
      "2\n",
      "Ciclo while: 3\n",
      "0\n",
      "1\n",
      "2\n",
      "Ciclo while: 4\n",
      "0\n",
      "1\n",
      "2\n",
      "Ciclo while: 5\n",
      "0\n",
      "1\n",
      "2\n",
      "Ciclo while: 6\n",
      "0\n",
      "1\n",
      "2\n",
      "Ciclo while: 7\n",
      "0\n",
      "1\n",
      "2\n",
      "Ciclo while: 8\n",
      "0\n",
      "1\n",
      "2\n",
      "Ciclo while: 9\n",
      "0\n",
      "1\n",
      "2\n",
      "Ciclo while: 10\n",
      "0\n",
      "1\n",
      "2\n"
     ]
    }
   ],
   "source": [
    "num7 = 10\n",
    "i = 1\n",
    "j = 1\n",
    "while i < num7:\n",
    "  print(\"Ciclo while:\", i)\n",
    "  for j in range (2):\n",
    "    print(j)\n",
    "  i += 1"
   ]
  },
  {
   "attachments": {},
   "cell_type": "markdown",
   "metadata": {},
   "source": [
    "8) Crear un ciclo while dentro de un ciclo for"
   ]
  },
  {
   "cell_type": "code",
   "execution_count": 42,
   "metadata": {},
   "outputs": [
    {
     "name": "stdout",
     "output_type": "stream",
     "text": [
      "Ciclo for: 0\n",
      "0\n",
      "1\n",
      "Ciclo for: 1\n",
      "0\n",
      "1\n",
      "Ciclo for: 2\n",
      "0\n",
      "1\n",
      "Ciclo for: 3\n",
      "0\n",
      "1\n",
      "Ciclo for: 4\n",
      "0\n",
      "1\n",
      "Ciclo for: 5\n",
      "0\n",
      "1\n",
      "Ciclo for: 6\n",
      "0\n",
      "1\n",
      "Ciclo for: 7\n",
      "0\n",
      "1\n",
      "Ciclo for: 8\n",
      "0\n",
      "1\n",
      "Ciclo for: 9\n",
      "0\n",
      "1\n"
     ]
    }
   ],
   "source": [
    "num8 = 10\n",
    "i = 0\n",
    "for i in range(num8):\n",
    "  print(\"Ciclo for:\", i)\n",
    "  j = 0\n",
    "  while j < 2:\n",
    "    print(j)\n",
    "    j += 1"
   ]
  },
  {
   "attachments": {},
   "cell_type": "markdown",
   "metadata": {},
   "source": [
    "9) Imprimir los números primos existentes entre 0 y 30"
   ]
  },
  {
   "cell_type": "code",
   "execution_count": 88,
   "metadata": {},
   "outputs": [
    {
     "name": "stdout",
     "output_type": "stream",
     "text": [
      "2\n",
      "3\n",
      "5\n",
      "7\n",
      "11\n",
      "13\n",
      "17\n",
      "19\n",
      "23\n",
      "29\n"
     ]
    }
   ],
   "source": [
    "num9 = 30\n",
    "for i in range (1, (num9 + 1)):\n",
    "  j = 1\n",
    "  count = 0\n",
    "  while j <= i:\n",
    "    if(i % j == 0):\n",
    "      count += 1\n",
    "    j += 1\n",
    "  if(count == 2):\n",
    "    print(i)\n",
    "    "
   ]
  },
  {
   "cell_type": "code",
   "execution_count": null,
   "metadata": {},
   "outputs": [],
   "source": []
  },
  {
   "attachments": {},
   "cell_type": "markdown",
   "metadata": {},
   "source": [
    "10) ¿Se puede mejorar el proceso del punto 9? Utilizar las sentencias break y/ó continue para tal fin"
   ]
  },
  {
   "cell_type": "code",
   "execution_count": 89,
   "metadata": {},
   "outputs": [
    {
     "name": "stdout",
     "output_type": "stream",
     "text": [
      "2\n",
      "3\n",
      "5\n",
      "7\n",
      "11\n",
      "13\n",
      "17\n",
      "19\n",
      "23\n",
      "29\n"
     ]
    }
   ],
   "source": [
    "num9 = 30\n",
    "for i in range (1, (num9 + 1)):\n",
    "  j = 1\n",
    "  count = 0\n",
    "  while j <= i:\n",
    "    if(i % j == 0):\n",
    "      count += 1\n",
    "    j += 1\n",
    "    if(count > 2):\n",
    "      break\n",
    "  if(count == 2):\n",
    "    print(i)"
   ]
  },
  {
   "attachments": {},
   "cell_type": "markdown",
   "metadata": {},
   "source": [
    "11) En los puntos 9 y 10, se diseño un código que encuentra números primos y además se lo optimizó. ¿Es posible saber en qué medida se optimizó?"
   ]
  },
  {
   "cell_type": "code",
   "execution_count": 98,
   "metadata": {},
   "outputs": [
    {
     "name": "stdout",
     "output_type": "stream",
     "text": [
      "2\n",
      "3\n",
      "5\n",
      "7\n",
      "11\n",
      "13\n",
      "17\n",
      "19\n",
      "23\n",
      "29\n",
      "numero de ciclos sin optimizar: 465\n"
     ]
    }
   ],
   "source": [
    "num9 = 30\n",
    "ciclosC = 0\n",
    "for i in range (1, (num9 + 1)):\n",
    "  j = 1\n",
    "  count = 0\n",
    "  while j <= i:\n",
    "    if(i % j == 0):\n",
    "      count += 1\n",
    "    j += 1\n",
    "    ciclosC += 1\n",
    "  if(count == 2):\n",
    "    print(i)\n",
    "print(\"numero de ciclos sin optimizar:\", ciclosC)"
   ]
  },
  {
   "cell_type": "code",
   "execution_count": 99,
   "metadata": {},
   "outputs": [
    {
     "name": "stdout",
     "output_type": "stream",
     "text": [
      "2\n",
      "3\n",
      "5\n",
      "7\n",
      "11\n",
      "13\n",
      "17\n",
      "19\n",
      "23\n",
      "29\n",
      "numero de ciclos optimizado: 237\n"
     ]
    }
   ],
   "source": [
    "num9 = 30\n",
    "ciclosC = 0\n",
    "for i in range (1, (num9 + 1)):\n",
    "  j = 1\n",
    "  count = 0\n",
    "  while j <= i:\n",
    "    if(i % j == 0):\n",
    "      count += 1\n",
    "    j += 1\n",
    "    if(count > 2):\n",
    "      break\n",
    "    ciclosC += 1\n",
    "  if(count == 2):\n",
    "    print(i)\n",
    "print(\"numero de ciclos optimizado:\", ciclosC)"
   ]
  },
  {
   "attachments": {},
   "cell_type": "markdown",
   "metadata": {},
   "source": [
    "12) Aplicando continue, armar un ciclo while que solo imprima los valores divisibles por 12, dentro del rango de números de 100 a 300"
   ]
  },
  {
   "cell_type": "code",
   "execution_count": 103,
   "metadata": {},
   "outputs": [
    {
     "name": "stdout",
     "output_type": "stream",
     "text": [
      "108\n",
      "120\n",
      "132\n",
      "144\n",
      "156\n",
      "168\n",
      "180\n",
      "192\n",
      "204\n",
      "216\n",
      "228\n",
      "240\n",
      "252\n",
      "264\n",
      "276\n",
      "288\n",
      "300\n"
     ]
    }
   ],
   "source": [
    "minN = 100\n",
    "maxN = 300\n",
    "while minN <= maxN:\n",
    "  if (minN % 12 == 0):\n",
    "    print(minN)\n",
    "  minN += 1\n"
   ]
  },
  {
   "attachments": {},
   "cell_type": "markdown",
   "metadata": {},
   "source": [
    "13) Utilizar la función **input()** que permite hacer ingresos por teclado, para encontrar números primos y dar la opción al usario de buscar el siguiente"
   ]
  },
  {
   "cell_type": "code",
   "execution_count": null,
   "metadata": {},
   "outputs": [],
   "source": []
  },
  {
   "attachments": {},
   "cell_type": "markdown",
   "metadata": {},
   "source": [
    "14) Crear un ciclo while que encuentre dentro del rango de 100 a 300 el primer número divisible por 3 y además múltiplo de 6"
   ]
  },
  {
   "cell_type": "code",
   "execution_count": null,
   "metadata": {},
   "outputs": [],
   "source": []
  }
 ],
 "metadata": {
  "interpreter": {
   "hash": "c85384e4cb51c8b72350f3a8712cc8351fdc3955e32a27f9b60c6242ab125f01"
  },
  "kernelspec": {
   "display_name": "Python 3 (ipykernel)",
   "language": "python",
   "name": "python3"
  },
  "language_info": {
   "codemirror_mode": {
    "name": "ipython",
    "version": 3
   },
   "file_extension": ".py",
   "mimetype": "text/x-python",
   "name": "python",
   "nbconvert_exporter": "python",
   "pygments_lexer": "ipython3",
   "version": "3.10.6"
  }
 },
 "nbformat": 4,
 "nbformat_minor": 4
}
